{
 "cells": [
  {
   "cell_type": "code",
   "execution_count": null,
   "metadata": {},
   "outputs": [],
   "source": [
    "import pymysql\n",
    "import  math \n",
    "\n",
    "connection = pymysql.connect(host='localhost', user='auth_user', password='Aauth123', db='nba_stats')\n",
    "cursor = connection.cursor()"
   ]
  },
  {
   "cell_type": "code",
   "execution_count": null,
   "metadata": {},
   "outputs": [],
   "source": [
    "K = 32\n",
    "INITIAL_ELO = 1500\n",
    "\n",
    "def fetch_elo(team_id):\n",
    "    cursor.execute(\"SELECT elo_rating FROM teams WHERE TEAM_ID = %s;\", (team_id,))\n",
    "    result = cursor.fetchone()\n",
    "    if result:\n",
    "        return result[0]\n",
    "    else:\n",
    "        return INITIAL_ELO \n",
    "\n",
    "def update_elo_in_db(team_id, new_elo):\n",
    "    cursor.execute(\"UPDATE teams SET elo_rating = %s WHERE TEAM_ID = %s;\", (new_elo, team_id))\n",
    "    connection.commit()\n",
    "\n",
    "def update_elo_with_margin(old_rating, expected, actual, margin, max_K=32):\n",
    "    # I wanted to consider the match points as I'd expect a better team to make more points\n",
    "    factor = (max_K * 2) / (1 + math.exp(-margin / 12))  \n",
    "    K = min(factor, max_K)\n",
    "    return old_rating + K * (actual - expected)"
   ]
  },
  {
   "cell_type": "markdown",
   "metadata": {},
   "source": [
    "My original database design didn't consider that I would need an ELO rating attribute... as the ELO rating is kept throughout the years then I consider it doesn''t need another table."
   ]
  },
  {
   "cell_type": "code",
   "execution_count": null,
   "metadata": {},
   "outputs": [],
   "source": [
    "try:\n",
    "    cursor.execute(\"ALTER TABLE teams ADD elo_rating FLOAT DEFAULT 1500;\")\n",
    "    connection.commit()\n",
    "except pymysql.err.InternalError:  \n",
    "    print(\"Column elo_rating already exists, skipping alteration.\")"
   ]
  },
  {
   "cell_type": "markdown",
   "metadata": {},
   "source": [
    "##  Pull the data of each game"
   ]
  },
  {
   "cell_type": "code",
   "execution_count": 4,
   "metadata": {},
   "outputs": [],
   "source": [
    "cursor.execute(\"SELECT GAME_ID FROM games ORDER BY GAME_DATE_EST;\")\n",
    "game_ids = [row[0] for row in cursor.fetchall()]"
   ]
  },
  {
   "cell_type": "code",
   "execution_count": 5,
   "metadata": {},
   "outputs": [],
   "source": [
    "for game_id in game_ids:\n",
    "    cursor.execute(\"SELECT TEAM_ID, PTS FROM team_stats WHERE GAME_ID = %s;\", (game_id,))\n",
    "    results = cursor.fetchall()\n",
    "    \n",
    "    team1_id, team1_pts = results[0]\n",
    "    team2_id, team2_pts = results[1]\n",
    "\n",
    "    team1_elo = fetch_elo(team1_id)\n",
    "    team2_elo = fetch_elo(team2_id)\n",
    "\n",
    "    expected_team1 = 1 / (1 + 10 ** ((team2_elo - team1_elo) / 400))\n",
    "    actual_team1 = 1 if team1_pts > team2_pts else 0\n",
    "\n",
    "    margin = abs(team1_pts - team2_pts)\n",
    "    new_team1_elo = update_elo_with_margin(team1_elo, expected_team1, actual_team1, margin)\n",
    "    new_team2_elo = update_elo_with_margin(team2_elo, 1 - expected_team1, 1 - actual_team1, margin)\n",
    "    \n",
    "    update_elo_in_db(team1_id, new_team1_elo)\n",
    "    update_elo_in_db(team2_id, new_team2_elo)\n",
    "\n",
    "cursor.close()\n",
    "connection.close()"
   ]
  }
 ],
 "metadata": {
  "kernelspec": {
   "display_name": ".venv",
   "language": "python",
   "name": "python3"
  },
  "language_info": {
   "codemirror_mode": {
    "name": "ipython",
    "version": 3
   },
   "file_extension": ".py",
   "mimetype": "text/x-python",
   "name": "python",
   "nbconvert_exporter": "python",
   "pygments_lexer": "ipython3",
   "version": "3.11.4"
  },
  "orig_nbformat": 4
 },
 "nbformat": 4,
 "nbformat_minor": 2
}
